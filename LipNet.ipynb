{
 "cells": [
  {
   "attachments": {},
   "cell_type": "markdown",
   "metadata": {},
   "source": [
    "## 0. Install and Import Dependencies"
   ]
  },
  {
   "cell_type": "code",
   "execution_count": 1,
   "metadata": {},
   "outputs": [],
   "source": [
    "import os # File Helper\n",
    "import numpy as np # Linear Algebra\n",
    "import cv2 # Image processing\n",
    "import tensorflow as tf # Model Creation\n",
    "from typing import List # Type Annotations\n",
    "from matplotlib import pyplot as plt # Visualizations\n",
    "import imageio # Numpy to Gif"
   ]
  },
  {
   "cell_type": "code",
   "execution_count": 2,
   "metadata": {},
   "outputs": [
    {
     "name": "stdout",
     "output_type": "stream",
     "text": [
      "2.10.0\n"
     ]
    }
   ],
   "source": [
    "print(tf.__version__)"
   ]
  },
  {
   "cell_type": "code",
   "execution_count": 3,
   "metadata": {},
   "outputs": [],
   "source": [
    "physical_devices = tf.config.list_physical_devices('GPU')\n",
    "try:\n",
    "    tf.config.experimental.set_memory_growth(physical_devices[0], True)\n",
    "except:\n",
    "    ..."
   ]
  },
  {
   "cell_type": "code",
   "execution_count": 4,
   "metadata": {},
   "outputs": [],
   "source": [
    "import gdown"
   ]
  },
  {
   "cell_type": "code",
   "execution_count": 5,
   "metadata": {},
   "outputs": [],
   "source": [
    "#url = 'https://drive.google.com/uc?id=1YlvpDLix3S-U8fd-gqRwPcWXAXm8JwjL'\n",
    "#output = 'data.zip'\n",
    "#gdown.download(url, output, quiet=False)\n",
    "#gdown.extractall(output)"
   ]
  },
  {
   "cell_type": "code",
   "execution_count": 6,
   "metadata": {},
   "outputs": [],
   "source": [
    "def load_video(path:str) -> List[float]:\n",
    "    \n",
    "    capture = cv2.VideoCapture(path) # OpenCV object that handles the video at the given path\n",
    "    frames = [] # To store each frame from the video\n",
    "    for _ in range(int(capture.get(cv2.CAP_PROP_FRAME_COUNT))): # Capture.get() is getting whatever property you pass in CAP_PROP_FRAME_COUNT is just the frame count\n",
    "        ret, frame = capture.read() # ret is a boolean if available, frame is the frame array\n",
    "        frame = tf.image.rgb_to_grayscale(frame) # Turns Colored Video into Grayscale (Black to Gray 0-1)\n",
    "        frames.append(frame[190:236, 80:220, :]) # Storing frame into the frames list but indexed so it's only the mouth from the dataset examples\n",
    "    capture.release() # Stops capturing video\n",
    "    \n",
    "    mean = tf.math.reduce_mean(frames)\n",
    "    std = tf.math.reduce_std(tf.cast(frames, tf.float32))\n",
    "    with tf.device('/CPU:0'):\n",
    "        return tf.cast((frames-mean), tf.float32) / std # Standardize the training example, (dataset-datasetmean)/datasetstd"
   ]
  },
  {
   "cell_type": "code",
   "execution_count": 7,
   "metadata": {},
   "outputs": [],
   "source": [
    "vocab = [x for x in \"abcdefghijklmnopqrstuvwxyz'?!123456789 \"] # Every character that could be in the training examples"
   ]
  },
  {
   "cell_type": "code",
   "execution_count": 8,
   "metadata": {},
   "outputs": [
    {
     "name": "stdout",
     "output_type": "stream",
     "text": [
      "The vocabulary is ['', 'a', 'b', 'c', 'd', 'e', 'f', 'g', 'h', 'i', 'j', 'k', 'l', 'm', 'n', 'o', 'p', 'q', 'r', 's', 't', 'u', 'v', 'w', 'x', 'y', 'z', \"'\", '?', '!', '1', '2', '3', '4', '5', '6', '7', '8', '9', ' '] size = 40\n"
     ]
    }
   ],
   "source": [
    "# Tokenize Vocabulary\n",
    "char_to_num = tf.keras.layers.StringLookup(vocabulary=vocab, oov_token=\"\")\n",
    "num_to_char = tf.keras.layers.StringLookup(vocabulary=char_to_num.get_vocabulary(), oov_token=\"\", invert=True)\n",
    "\n",
    "print(f\"The vocabulary is {char_to_num.get_vocabulary()} \"\n",
    "      f\"size = {char_to_num.vocabulary_size()}\")"
   ]
  },
  {
   "cell_type": "code",
   "execution_count": 9,
   "metadata": {},
   "outputs": [],
   "source": [
    "def load_alignments(path:str) -> List[str]:\n",
    "    with open(path, 'r') as f:\n",
    "        lines = f.readlines()\n",
    "    tokens = []\n",
    "    for line in lines:\n",
    "        word = line.split()[-1]\n",
    "        if word != \"sil\":\n",
    "            tokens = [*tokens,' ', word]\n",
    "    \n",
    "    return char_to_num(tf.reshape(tf.strings.unicode_split(tokens, input_encoding='UTF-8'), (-1)))[1:]"
   ]
  },
  {
   "cell_type": "code",
   "execution_count": 10,
   "metadata": {},
   "outputs": [],
   "source": [
    "def load_data(path):\n",
    "    path = bytes.decode(path.numpy(), 'utf-8')\n",
    "    file_name = path.split('\\\\')[-1].split('.')[0]\n",
    "    video_path = os.path.join('data', 's1', f'{file_name}.mpg')\n",
    "    alignment_path = os.path.join('data', 'alignments', 's1', f'{file_name}.align')\n",
    "    frames = load_video(video_path)\n",
    "    alignments = load_alignments(alignment_path)\n",
    "    \n",
    "    return frames, alignments"
   ]
  },
  {
   "cell_type": "code",
   "execution_count": 11,
   "metadata": {},
   "outputs": [],
   "source": [
    "test_path = \".\\\\data\\\\s1\\\\bbaf2n.mpg\""
   ]
  },
  {
   "cell_type": "code",
   "execution_count": 12,
   "metadata": {},
   "outputs": [
    {
     "data": {
      "text/plain": [
       "<tf.Tensor: shape=(), dtype=string, numpy=b'.\\\\data\\\\s1\\\\bbaf2n.mpg'>"
      ]
     },
     "execution_count": 12,
     "metadata": {},
     "output_type": "execute_result"
    }
   ],
   "source": [
    "tf.convert_to_tensor(test_path)"
   ]
  },
  {
   "cell_type": "code",
   "execution_count": 13,
   "metadata": {},
   "outputs": [],
   "source": [
    "examples, labels = load_data(tf.convert_to_tensor(test_path))"
   ]
  },
  {
   "cell_type": "code",
   "execution_count": 14,
   "metadata": {},
   "outputs": [
    {
     "data": {
      "text/plain": [
       "<matplotlib.image.AxesImage at 0x257f4d6c7c0>"
      ]
     },
     "execution_count": 14,
     "metadata": {},
     "output_type": "execute_result"
    },
    {
     "data": {
      "image/png": "[encoded data removed]",
      "text/plain": [
       "<Figure size 640x480 with 1 Axes>"
      ]
     },
     "metadata": {},
     "output_type": "display_data"
    }
   ],
   "source": [
    "plt.imshow(examples[40])"
   ]
  },
  {
   "cell_type": "code",
   "execution_count": 15,
   "metadata": {},
   "outputs": [
    {
     "data": {
      "text/plain": [
       "<tf.Tensor: shape=(), dtype=string, numpy=b'bin blue at f two now'>"
      ]
     },
     "execution_count": 15,
     "metadata": {},
     "output_type": "execute_result"
    }
   ],
   "source": [
    "tf.strings.reduce_join([bytes.decode(x) for x in num_to_char(labels.numpy()).numpy()])"
   ]
  },
  {
   "cell_type": "code",
   "execution_count": 16,
   "metadata": {},
   "outputs": [],
   "source": [
    "def mappable_function(path:str) -> List[str]:\n",
    "    result = tf.py_function(load_data, [path], (tf.float32, tf.int64))\n",
    "    return result"
   ]
  },
  {
   "attachments": {},
   "cell_type": "markdown",
   "metadata": {},
   "source": [
    "## 2. Create Data Pipeline"
   ]
  },
  {
   "cell_type": "code",
   "execution_count": 42,
   "metadata": {},
   "outputs": [],
   "source": [
    "data = tf.data.Dataset.list_files('./data/s1/*.mpg') # Pull all .mpg files\n",
    "data = data.shuffle(500, reshuffle_each_iteration=False) # Randomly shuffle them\n",
    "data = data.map(mappable_function) # loads frames and labels for each training example\n",
    "data = data.padded_batch(2, padded_shapes=([75, None, None, None], [40])) # 2 videos with 2 labels, ensuring we have 75 frames for each video and 40 tokens for labels\n",
    "data = data.prefetch(tf.data.AUTOTUNE) # Preloading as training\n",
    "\n",
    "train = data.take(450)\n",
    "test = data.skip(450)"
   ]
  },
  {
   "cell_type": "code",
   "execution_count": 43,
   "metadata": {},
   "outputs": [
    {
     "data": {
      "text/plain": [
       "array([[[[[1.38044   ],\n",
       "          [1.38044   ],\n",
       "          [1.4550583 ],\n",
       "          ...,\n",
       "          [0.2611643 ],\n",
       "          [0.22385512],\n",
       "          [0.22385512]],\n",
       "\n",
       "         [[1.38044   ],\n",
       "          [1.38044   ],\n",
       "          [1.4550583 ],\n",
       "          ...,\n",
       "          [0.2611643 ],\n",
       "          [0.22385512],\n",
       "          [0.22385512]],\n",
       "\n",
       "         [[1.38044   ],\n",
       "          [1.38044   ],\n",
       "          [1.3431308 ],\n",
       "          ...,\n",
       "          [0.3357827 ],\n",
       "          [0.2984735 ],\n",
       "          [0.2984735 ]],\n",
       "\n",
       "         ...,\n",
       "\n",
       "         [[0.9700389 ],\n",
       "          [0.9700389 ],\n",
       "          [0.9700389 ],\n",
       "          ...,\n",
       "          [0.07461838],\n",
       "          [0.07461838],\n",
       "          [0.07461838]],\n",
       "\n",
       "         [[0.9700389 ],\n",
       "          [0.9700389 ],\n",
       "          [0.9700389 ],\n",
       "          ...,\n",
       "          [0.03730919],\n",
       "          [0.03730919],\n",
       "          [0.03730919]],\n",
       "\n",
       "         [[0.9700389 ],\n",
       "          [0.9700389 ],\n",
       "          [0.9700389 ],\n",
       "          ...,\n",
       "          [0.03730919],\n",
       "          [0.03730919],\n",
       "          [0.03730919]]],\n",
       "\n",
       "\n",
       "        [[[1.3058215 ],\n",
       "          [1.3058215 ],\n",
       "          [1.38044   ],\n",
       "          ...,\n",
       "          [0.2611643 ],\n",
       "          [0.22385512],\n",
       "          [0.22385512]],\n",
       "\n",
       "         [[1.3058215 ],\n",
       "          [1.3058215 ],\n",
       "          [1.38044   ],\n",
       "          ...,\n",
       "          [0.2611643 ],\n",
       "          [0.22385512],\n",
       "          [0.22385512]],\n",
       "\n",
       "         [[1.38044   ],\n",
       "          [1.38044   ],\n",
       "          [1.3431308 ],\n",
       "          ...,\n",
       "          [0.2611643 ],\n",
       "          [0.2984735 ],\n",
       "          [0.2984735 ]],\n",
       "\n",
       "         ...,\n",
       "\n",
       "         [[0.9700389 ],\n",
       "          [0.9700389 ],\n",
       "          [0.9700389 ],\n",
       "          ...,\n",
       "          [0.03730919],\n",
       "          [0.03730919],\n",
       "          [0.03730919]],\n",
       "\n",
       "         [[0.9700389 ],\n",
       "          [0.9700389 ],\n",
       "          [0.9700389 ],\n",
       "          ...,\n",
       "          [0.03730919],\n",
       "          [0.03730919],\n",
       "          [0.        ]],\n",
       "\n",
       "         [[0.9327297 ],\n",
       "          [0.9327297 ],\n",
       "          [0.9327297 ],\n",
       "          ...,\n",
       "          [0.        ],\n",
       "          [0.        ],\n",
       "          [0.        ]]],\n",
       "\n",
       "\n",
       "        [[[1.38044   ],\n",
       "          [1.38044   ],\n",
       "          [1.38044   ],\n",
       "          ...,\n",
       "          [0.2611643 ],\n",
       "          [0.22385512],\n",
       "          [0.22385512]],\n",
       "\n",
       "         [[1.38044   ],\n",
       "          [1.38044   ],\n",
       "          [1.38044   ],\n",
       "          ...,\n",
       "          [0.2984735 ],\n",
       "          [0.22385512],\n",
       "          [0.22385512]],\n",
       "\n",
       "         [[1.38044   ],\n",
       "          [1.38044   ],\n",
       "          [1.3431308 ],\n",
       "          ...,\n",
       "          [0.2611643 ],\n",
       "          [0.2611643 ],\n",
       "          [0.2611643 ]],\n",
       "\n",
       "         ...,\n",
       "\n",
       "         [[0.9327297 ],\n",
       "          [0.9327297 ],\n",
       "          [0.9327297 ],\n",
       "          ...,\n",
       "          [0.07461838],\n",
       "          [0.07461838],\n",
       "          [0.07461838]],\n",
       "\n",
       "         [[0.9327297 ],\n",
       "          [0.9700389 ],\n",
       "          [0.9700389 ],\n",
       "          ...,\n",
       "          [0.03730919],\n",
       "          [0.03730919],\n",
       "          [0.03730919]],\n",
       "\n",
       "         [[0.9327297 ],\n",
       "          [0.9327297 ],\n",
       "          [0.9327297 ],\n",
       "          ...,\n",
       "          [0.03730919],\n",
       "          [0.        ],\n",
       "          [0.        ]]],\n",
       "\n",
       "\n",
       "        ...,\n",
       "\n",
       "\n",
       "        [[[1.3431308 ],\n",
       "          [1.3058215 ],\n",
       "          [1.3058215 ],\n",
       "          ...,\n",
       "          [0.14923675],\n",
       "          [0.14923675],\n",
       "          [0.14923675]],\n",
       "\n",
       "         [[1.3431308 ],\n",
       "          [1.3058215 ],\n",
       "          [1.2685124 ],\n",
       "          ...,\n",
       "          [0.14923675],\n",
       "          [0.14923675],\n",
       "          [0.14923675]],\n",
       "\n",
       "         [[1.3058215 ],\n",
       "          [1.3058215 ],\n",
       "          [1.3058215 ],\n",
       "          ...,\n",
       "          [0.22385512],\n",
       "          [0.18654594],\n",
       "          [0.18654594]],\n",
       "\n",
       "         ...,\n",
       "\n",
       "         [[0.9327297 ],\n",
       "          [0.9327297 ],\n",
       "          [0.9327297 ],\n",
       "          ...,\n",
       "          [9.476534  ],\n",
       "          [9.476534  ],\n",
       "          [9.476534  ]],\n",
       "\n",
       "         [[0.9327297 ],\n",
       "          [0.9327297 ],\n",
       "          [0.9327297 ],\n",
       "          ...,\n",
       "          [9.476534  ],\n",
       "          [9.476534  ],\n",
       "          [9.476534  ]],\n",
       "\n",
       "         [[0.9327297 ],\n",
       "          [0.9327297 ],\n",
       "          [0.8954205 ],\n",
       "          ...,\n",
       "          [9.476534  ],\n",
       "          [9.476534  ],\n",
       "          [9.476534  ]]],\n",
       "\n",
       "\n",
       "        [[[1.38044   ],\n",
       "          [1.3431308 ],\n",
       "          [1.3431308 ],\n",
       "          ...,\n",
       "          [0.18654594],\n",
       "          [0.14923675],\n",
       "          [0.14923675]],\n",
       "\n",
       "         [[1.38044   ],\n",
       "          [1.3431308 ],\n",
       "          [1.3058215 ],\n",
       "          ...,\n",
       "          [0.18654594],\n",
       "          [0.14923675],\n",
       "          [0.14923675]],\n",
       "\n",
       "         [[1.3058215 ],\n",
       "          [1.3058215 ],\n",
       "          [1.3058215 ],\n",
       "          ...,\n",
       "          [0.18654594],\n",
       "          [0.14923675],\n",
       "          [0.14923675]],\n",
       "\n",
       "         ...,\n",
       "\n",
       "         [[0.9327297 ],\n",
       "          [0.9327297 ],\n",
       "          [0.9327297 ],\n",
       "          ...,\n",
       "          [0.        ],\n",
       "          [9.513843  ],\n",
       "          [9.476534  ]],\n",
       "\n",
       "         [[0.9327297 ],\n",
       "          [0.9327297 ],\n",
       "          [0.9327297 ],\n",
       "          ...,\n",
       "          [9.513843  ],\n",
       "          [9.513843  ],\n",
       "          [9.476534  ]],\n",
       "\n",
       "         [[0.9327297 ],\n",
       "          [0.9327297 ],\n",
       "          [0.8954205 ],\n",
       "          ...,\n",
       "          [9.513843  ],\n",
       "          [9.513843  ],\n",
       "          [9.476534  ]]],\n",
       "\n",
       "\n",
       "        [[[1.38044   ],\n",
       "          [1.3431308 ],\n",
       "          [1.3431308 ],\n",
       "          ...,\n",
       "          [0.18654594],\n",
       "          [0.18654594],\n",
       "          [0.18654594]],\n",
       "\n",
       "         [[1.38044   ],\n",
       "          [1.3431308 ],\n",
       "          [1.3058215 ],\n",
       "          ...,\n",
       "          [0.18654594],\n",
       "          [0.18654594],\n",
       "          [0.18654594]],\n",
       "\n",
       "         [[1.4177492 ],\n",
       "          [1.38044   ],\n",
       "          [1.3058215 ],\n",
       "          ...,\n",
       "          [0.2984735 ],\n",
       "          [0.2611643 ],\n",
       "          [0.2611643 ]],\n",
       "\n",
       "         ...,\n",
       "\n",
       "         [[0.9327297 ],\n",
       "          [0.9327297 ],\n",
       "          [0.9327297 ],\n",
       "          ...,\n",
       "          [0.03730919],\n",
       "          [0.        ],\n",
       "          [9.513843  ]],\n",
       "\n",
       "         [[0.9327297 ],\n",
       "          [0.9327297 ],\n",
       "          [0.9327297 ],\n",
       "          ...,\n",
       "          [0.        ],\n",
       "          [9.513843  ],\n",
       "          [9.513843  ]],\n",
       "\n",
       "         [[0.9327297 ],\n",
       "          [0.9327297 ],\n",
       "          [0.8954205 ],\n",
       "          ...,\n",
       "          [9.513843  ],\n",
       "          [9.513843  ],\n",
       "          [9.513843  ]]]],\n",
       "\n",
       "\n",
       "\n",
       "       [[[[1.3394786 ],\n",
       "          [1.3394786 ],\n",
       "          [1.3022709 ],\n",
       "          ...,\n",
       "          [9.487973  ],\n",
       "          [0.18603869],\n",
       "          [0.03720774]],\n",
       "\n",
       "         [[1.3394786 ],\n",
       "          [1.3394786 ],\n",
       "          [1.3022709 ],\n",
       "          ...,\n",
       "          [0.        ],\n",
       "          [0.07441548],\n",
       "          [0.        ]],\n",
       "\n",
       "         [[1.3766863 ],\n",
       "          [1.3766863 ],\n",
       "          [1.3022709 ],\n",
       "          ...,\n",
       "          [0.14883095],\n",
       "          [0.03720774],\n",
       "          [0.03720774]],\n",
       "\n",
       "         ...,\n",
       "\n",
       "         [[0.9301935 ],\n",
       "          [0.9301935 ],\n",
       "          [0.89298576],\n",
       "          ...,\n",
       "          [9.413558  ],\n",
       "          [9.37635   ],\n",
       "          [9.37635   ]],\n",
       "\n",
       "         [[0.9301935 ],\n",
       "          [0.9301935 ],\n",
       "          [0.89298576],\n",
       "          ...,\n",
       "          [9.339143  ],\n",
       "          [9.301935  ],\n",
       "          [9.301935  ]],\n",
       "\n",
       "         [[0.9301935 ],\n",
       "          [0.9301935 ],\n",
       "          [0.89298576],\n",
       "          ...,\n",
       "          [9.339143  ],\n",
       "          [9.301935  ],\n",
       "          [9.301935  ]]],\n",
       "\n",
       "\n",
       "        [[[1.2278554 ],\n",
       "          [1.2650632 ],\n",
       "          [1.2650632 ],\n",
       "          ...,\n",
       "          [0.        ],\n",
       "          [0.        ],\n",
       "          [0.03720774]],\n",
       "\n",
       "         [[1.2278554 ],\n",
       "          [1.2278554 ],\n",
       "          [1.2650632 ],\n",
       "          ...,\n",
       "          [0.03720774],\n",
       "          [0.03720774],\n",
       "          [0.        ]],\n",
       "\n",
       "         [[1.2650632 ],\n",
       "          [1.2650632 ],\n",
       "          [1.2278554 ],\n",
       "          ...,\n",
       "          [0.11162322],\n",
       "          [0.03720774],\n",
       "          [0.03720774]],\n",
       "\n",
       "         ...,\n",
       "\n",
       "         [[0.9301935 ],\n",
       "          [0.9301935 ],\n",
       "          [0.89298576],\n",
       "          ...,\n",
       "          [9.339143  ],\n",
       "          [9.37635   ],\n",
       "          [9.37635   ]],\n",
       "\n",
       "         [[0.9301935 ],\n",
       "          [0.9301935 ],\n",
       "          [0.89298576],\n",
       "          ...,\n",
       "          [9.301935  ],\n",
       "          [9.264727  ],\n",
       "          [9.264727  ]],\n",
       "\n",
       "         [[0.9301935 ],\n",
       "          [0.9301935 ],\n",
       "          [0.89298576],\n",
       "          ...,\n",
       "          [9.301935  ],\n",
       "          [9.264727  ],\n",
       "          [9.264727  ]]],\n",
       "\n",
       "\n",
       "        [[[1.2278554 ],\n",
       "          [1.2650632 ],\n",
       "          [1.2650632 ],\n",
       "          ...,\n",
       "          [0.        ],\n",
       "          [0.        ],\n",
       "          [0.03720774]],\n",
       "\n",
       "         [[1.2278554 ],\n",
       "          [1.2278554 ],\n",
       "          [1.2650632 ],\n",
       "          ...,\n",
       "          [0.03720774],\n",
       "          [0.03720774],\n",
       "          [0.        ]],\n",
       "\n",
       "         [[1.2650632 ],\n",
       "          [1.2650632 ],\n",
       "          [1.2650632 ],\n",
       "          ...,\n",
       "          [0.14883095],\n",
       "          [0.03720774],\n",
       "          [0.03720774]],\n",
       "\n",
       "         ...,\n",
       "\n",
       "         [[0.9301935 ],\n",
       "          [0.9301935 ],\n",
       "          [0.89298576],\n",
       "          ...,\n",
       "          [9.37635   ],\n",
       "          [9.37635   ],\n",
       "          [9.37635   ]],\n",
       "\n",
       "         [[0.9301935 ],\n",
       "          [0.9301935 ],\n",
       "          [0.89298576],\n",
       "          ...,\n",
       "          [9.301935  ],\n",
       "          [9.301935  ],\n",
       "          [9.301935  ]],\n",
       "\n",
       "         [[0.9301935 ],\n",
       "          [0.89298576],\n",
       "          [0.89298576],\n",
       "          ...,\n",
       "          [9.301935  ],\n",
       "          [9.301935  ],\n",
       "          [9.301935  ]]],\n",
       "\n",
       "\n",
       "        ...,\n",
       "\n",
       "\n",
       "        [[[1.2278554 ],\n",
       "          [1.2278554 ],\n",
       "          [1.3022709 ],\n",
       "          ...,\n",
       "          [0.03720774],\n",
       "          [0.03720774],\n",
       "          [0.        ]],\n",
       "\n",
       "         [[1.2278554 ],\n",
       "          [1.2278554 ],\n",
       "          [1.3022709 ],\n",
       "          ...,\n",
       "          [0.03720774],\n",
       "          [0.03720774],\n",
       "          [0.11162322]],\n",
       "\n",
       "         [[1.3022709 ],\n",
       "          [1.2650632 ],\n",
       "          [1.2650632 ],\n",
       "          ...,\n",
       "          [0.11162322],\n",
       "          [0.07441548],\n",
       "          [0.07441548]],\n",
       "\n",
       "         ...,\n",
       "\n",
       "         [[0.9301935 ],\n",
       "          [0.89298576],\n",
       "          [0.89298576],\n",
       "          ...,\n",
       "          [9.413558  ],\n",
       "          [9.37635   ],\n",
       "          [9.37635   ]],\n",
       "\n",
       "         [[0.9301935 ],\n",
       "          [0.89298576],\n",
       "          [0.89298576],\n",
       "          ...,\n",
       "          [9.413558  ],\n",
       "          [9.37635   ],\n",
       "          [9.37635   ]],\n",
       "\n",
       "         [[0.9301935 ],\n",
       "          [0.89298576],\n",
       "          [0.89298576],\n",
       "          ...,\n",
       "          [9.413558  ],\n",
       "          [9.37635   ],\n",
       "          [9.301935  ]]],\n",
       "\n",
       "\n",
       "        [[[1.3022709 ],\n",
       "          [1.3022709 ],\n",
       "          [1.3022709 ],\n",
       "          ...,\n",
       "          [9.487973  ],\n",
       "          [0.        ],\n",
       "          [0.        ]],\n",
       "\n",
       "         [[1.3022709 ],\n",
       "          [1.3022709 ],\n",
       "          [1.3022709 ],\n",
       "          ...,\n",
       "          [9.487973  ],\n",
       "          [0.14883095],\n",
       "          [0.        ]],\n",
       "\n",
       "         [[1.3394786 ],\n",
       "          [1.3022709 ],\n",
       "          [1.3022709 ],\n",
       "          ...,\n",
       "          [0.18603869],\n",
       "          [0.07441548],\n",
       "          [0.07441548]],\n",
       "\n",
       "         ...,\n",
       "\n",
       "         [[0.9301935 ],\n",
       "          [0.89298576],\n",
       "          [0.89298576],\n",
       "          ...,\n",
       "          [9.413558  ],\n",
       "          [9.37635   ],\n",
       "          [9.37635   ]],\n",
       "\n",
       "         [[0.9301935 ],\n",
       "          [0.89298576],\n",
       "          [0.89298576],\n",
       "          ...,\n",
       "          [9.413558  ],\n",
       "          [9.37635   ],\n",
       "          [9.37635   ]],\n",
       "\n",
       "         [[0.9301935 ],\n",
       "          [0.89298576],\n",
       "          [0.89298576],\n",
       "          ...,\n",
       "          [9.413558  ],\n",
       "          [9.37635   ],\n",
       "          [9.301935  ]]],\n",
       "\n",
       "\n",
       "        [[[1.3022709 ],\n",
       "          [1.3022709 ],\n",
       "          [1.3022709 ],\n",
       "          ...,\n",
       "          [9.450766  ],\n",
       "          [0.03720774],\n",
       "          [0.03720774]],\n",
       "\n",
       "         [[1.3022709 ],\n",
       "          [1.2650632 ],\n",
       "          [1.2650632 ],\n",
       "          ...,\n",
       "          [0.03720774],\n",
       "          [0.14883095],\n",
       "          [9.487973  ]],\n",
       "\n",
       "         [[1.2650632 ],\n",
       "          [1.2650632 ],\n",
       "          [1.2650632 ],\n",
       "          ...,\n",
       "          [0.18603869],\n",
       "          [0.07441548],\n",
       "          [0.07441548]],\n",
       "\n",
       "         ...,\n",
       "\n",
       "         [[0.9301935 ],\n",
       "          [0.89298576],\n",
       "          [0.89298576],\n",
       "          ...,\n",
       "          [9.37635   ],\n",
       "          [9.339143  ],\n",
       "          [9.339143  ]],\n",
       "\n",
       "         [[0.9301935 ],\n",
       "          [0.89298576],\n",
       "          [0.89298576],\n",
       "          ...,\n",
       "          [9.37635   ],\n",
       "          [9.339143  ],\n",
       "          [9.339143  ]],\n",
       "\n",
       "         [[0.9301935 ],\n",
       "          [0.89298576],\n",
       "          [0.89298576],\n",
       "          ...,\n",
       "          [9.37635   ],\n",
       "          [9.339143  ],\n",
       "          [9.264727  ]]]]], dtype=float32)"
      ]
     },
     "execution_count": 43,
     "metadata": {},
     "output_type": "execute_result"
    }
   ],
   "source": [
    "quick_test = data.as_numpy_iterator()\n",
    "val = quick_test.next(); val[0]"
   ]
  },
  {
   "cell_type": "code",
   "execution_count": 19,
   "metadata": {},
   "outputs": [
    {
     "name": "stderr",
     "output_type": "stream",
     "text": [
      "Lossy conversion from float32 to uint8. Range [0.0, 10.062883377075195]. Convert image to uint8 prior to saving to suppress this warning.\n",
      "Lossy conversion from float32 to uint8. Range [0.0, 10.062883377075195]. Convert image to uint8 prior to saving to suppress this warning.\n",
      "Lossy conversion from float32 to uint8. Range [0.0, 10.062883377075195]. Convert image to uint8 prior to saving to suppress this warning.\n",
      "Lossy conversion from float32 to uint8. Range [0.0, 10.062883377075195]. Convert image to uint8 prior to saving to suppress this warning.\n",
      "Lossy conversion from float32 to uint8. Range [0.0, 10.062883377075195]. Convert image to uint8 prior to saving to suppress this warning.\n",
      "Lossy conversion from float32 to uint8. Range [0.0, 10.062883377075195]. Convert image to uint8 prior to saving to suppress this warning.\n",
      "Lossy conversion from float32 to uint8. Range [0.0, 10.062883377075195]. Convert image to uint8 prior to saving to suppress this warning.\n",
      "Lossy conversion from float32 to uint8. Range [0.0, 10.062883377075195]. Convert image to uint8 prior to saving to suppress this warning.\n",
      "Lossy conversion from float32 to uint8. Range [0.0, 10.062883377075195]. Convert image to uint8 prior to saving to suppress this warning.\n",
      "Lossy conversion from float32 to uint8. Range [0.0, 10.062883377075195]. Convert image to uint8 prior to saving to suppress this warning.\n",
      "Lossy conversion from float32 to uint8. Range [0.0, 10.062883377075195]. Convert image to uint8 prior to saving to suppress this warning.\n",
      "Lossy conversion from float32 to uint8. Range [0.0, 10.062883377075195]. Convert image to uint8 prior to saving to suppress this warning.\n",
      "Lossy conversion from float32 to uint8. Range [0.0, 10.062883377075195]. Convert image to uint8 prior to saving to suppress this warning.\n",
      "Lossy conversion from float32 to uint8. Range [0.0, 10.062883377075195]. Convert image to uint8 prior to saving to suppress this warning.\n",
      "Lossy conversion from float32 to uint8. Range [0.0, 10.062883377075195]. Convert image to uint8 prior to saving to suppress this warning.\n",
      "Lossy conversion from float32 to uint8. Range [0.0, 10.062883377075195]. Convert image to uint8 prior to saving to suppress this warning.\n",
      "Lossy conversion from float32 to uint8. Range [0.0, 10.062883377075195]. Convert image to uint8 prior to saving to suppress this warning.\n",
      "Lossy conversion from float32 to uint8. Range [0.0, 10.062883377075195]. Convert image to uint8 prior to saving to suppress this warning.\n",
      "Lossy conversion from float32 to uint8. Range [0.0, 10.062883377075195]. Convert image to uint8 prior to saving to suppress this warning.\n",
      "Lossy conversion from float32 to uint8. Range [0.0, 10.062883377075195]. Convert image to uint8 prior to saving to suppress this warning.\n",
      "Lossy conversion from float32 to uint8. Range [0.0, 10.062883377075195]. Convert image to uint8 prior to saving to suppress this warning.\n",
      "Lossy conversion from float32 to uint8. Range [0.0, 10.062883377075195]. Convert image to uint8 prior to saving to suppress this warning.\n",
      "Lossy conversion from float32 to uint8. Range [0.0, 10.062883377075195]. Convert image to uint8 prior to saving to suppress this warning.\n",
      "Lossy conversion from float32 to uint8. Range [0.0, 10.062883377075195]. Convert image to uint8 prior to saving to suppress this warning.\n",
      "Lossy conversion from float32 to uint8. Range [0.0, 10.062883377075195]. Convert image to uint8 prior to saving to suppress this warning.\n",
      "Lossy conversion from float32 to uint8. Range [0.0, 10.062883377075195]. Convert image to uint8 prior to saving to suppress this warning.\n",
      "Lossy conversion from float32 to uint8. Range [0.0, 10.062883377075195]. Convert image to uint8 prior to saving to suppress this warning.\n",
      "Lossy conversion from float32 to uint8. Range [0.0, 10.062883377075195]. Convert image to uint8 prior to saving to suppress this warning.\n",
      "Lossy conversion from float32 to uint8. Range [0.0, 10.062883377075195]. Convert image to uint8 prior to saving to suppress this warning.\n",
      "Lossy conversion from float32 to uint8. Range [0.0, 10.062883377075195]. Convert image to uint8 prior to saving to suppress this warning.\n",
      "Lossy conversion from float32 to uint8. Range [0.0, 10.062883377075195]. Convert image to uint8 prior to saving to suppress this warning.\n",
      "Lossy conversion from float32 to uint8. Range [0.0, 10.062883377075195]. Convert image to uint8 prior to saving to suppress this warning.\n",
      "Lossy conversion from float32 to uint8. Range [0.0, 10.062883377075195]. Convert image to uint8 prior to saving to suppress this warning.\n",
      "Lossy conversion from float32 to uint8. Range [0.0, 10.062883377075195]. Convert image to uint8 prior to saving to suppress this warning.\n",
      "Lossy conversion from float32 to uint8. Range [0.0, 10.062883377075195]. Convert image to uint8 prior to saving to suppress this warning.\n",
      "Lossy conversion from float32 to uint8. Range [0.0, 10.062883377075195]. Convert image to uint8 prior to saving to suppress this warning.\n",
      "Lossy conversion from float32 to uint8. Range [0.0, 10.062883377075195]. Convert image to uint8 prior to saving to suppress this warning.\n",
      "Lossy conversion from float32 to uint8. Range [0.0, 10.062883377075195]. Convert image to uint8 prior to saving to suppress this warning.\n",
      "Lossy conversion from float32 to uint8. Range [0.0, 10.062883377075195]. Convert image to uint8 prior to saving to suppress this warning.\n",
      "Lossy conversion from float32 to uint8. Range [0.0, 10.062883377075195]. Convert image to uint8 prior to saving to suppress this warning.\n",
      "Lossy conversion from float32 to uint8. Range [0.0, 10.062883377075195]. Convert image to uint8 prior to saving to suppress this warning.\n",
      "Lossy conversion from float32 to uint8. Range [0.0, 10.062883377075195]. Convert image to uint8 prior to saving to suppress this warning.\n",
      "Lossy conversion from float32 to uint8. Range [0.0, 10.062883377075195]. Convert image to uint8 prior to saving to suppress this warning.\n",
      "Lossy conversion from float32 to uint8. Range [0.0, 10.062883377075195]. Convert image to uint8 prior to saving to suppress this warning.\n",
      "Lossy conversion from float32 to uint8. Range [0.0, 10.062883377075195]. Convert image to uint8 prior to saving to suppress this warning.\n",
      "Lossy conversion from float32 to uint8. Range [0.0, 10.062883377075195]. Convert image to uint8 prior to saving to suppress this warning.\n",
      "Lossy conversion from float32 to uint8. Range [0.0, 10.062883377075195]. Convert image to uint8 prior to saving to suppress this warning.\n",
      "Lossy conversion from float32 to uint8. Range [0.0, 10.062883377075195]. Convert image to uint8 prior to saving to suppress this warning.\n",
      "Lossy conversion from float32 to uint8. Range [0.0, 10.062883377075195]. Convert image to uint8 prior to saving to suppress this warning.\n",
      "Lossy conversion from float32 to uint8. Range [0.0, 10.062883377075195]. Convert image to uint8 prior to saving to suppress this warning.\n",
      "Lossy conversion from float32 to uint8. Range [0.0, 10.062883377075195]. Convert image to uint8 prior to saving to suppress this warning.\n",
      "Lossy conversion from float32 to uint8. Range [0.0, 10.062883377075195]. Convert image to uint8 prior to saving to suppress this warning.\n",
      "Lossy conversion from float32 to uint8. Range [0.0, 10.062883377075195]. Convert image to uint8 prior to saving to suppress this warning.\n",
      "Lossy conversion from float32 to uint8. Range [0.0, 10.062883377075195]. Convert image to uint8 prior to saving to suppress this warning.\n",
      "Lossy conversion from float32 to uint8. Range [0.0, 10.062883377075195]. Convert image to uint8 prior to saving to suppress this warning.\n",
      "Lossy conversion from float32 to uint8. Range [0.0, 10.062883377075195]. Convert image to uint8 prior to saving to suppress this warning.\n",
      "Lossy conversion from float32 to uint8. Range [0.0, 10.062883377075195]. Convert image to uint8 prior to saving to suppress this warning.\n",
      "Lossy conversion from float32 to uint8. Range [0.0, 10.062883377075195]. Convert image to uint8 prior to saving to suppress this warning.\n",
      "Lossy conversion from float32 to uint8. Range [0.0, 10.062883377075195]. Convert image to uint8 prior to saving to suppress this warning.\n",
      "Lossy conversion from float32 to uint8. Range [0.0, 10.062883377075195]. Convert image to uint8 prior to saving to suppress this warning.\n",
      "Lossy conversion from float32 to uint8. Range [0.0, 10.062883377075195]. Convert image to uint8 prior to saving to suppress this warning.\n",
      "Lossy conversion from float32 to uint8. Range [0.0, 10.062883377075195]. Convert image to uint8 prior to saving to suppress this warning.\n",
      "Lossy conversion from float32 to uint8. Range [0.0, 10.062883377075195]. Convert image to uint8 prior to saving to suppress this warning.\n",
      "Lossy conversion from float32 to uint8. Range [0.0, 10.062883377075195]. Convert image to uint8 prior to saving to suppress this warning.\n",
      "Lossy conversion from float32 to uint8. Range [0.0, 10.062883377075195]. Convert image to uint8 prior to saving to suppress this warning.\n",
      "Lossy conversion from float32 to uint8. Range [0.0, 10.062883377075195]. Convert image to uint8 prior to saving to suppress this warning.\n",
      "Lossy conversion from float32 to uint8. Range [0.0, 10.062883377075195]. Convert image to uint8 prior to saving to suppress this warning.\n",
      "Lossy conversion from float32 to uint8. Range [0.0, 10.062883377075195]. Convert image to uint8 prior to saving to suppress this warning.\n",
      "Lossy conversion from float32 to uint8. Range [0.0, 10.062883377075195]. Convert image to uint8 prior to saving to suppress this warning.\n",
      "Lossy conversion from float32 to uint8. Range [0.0, 10.062883377075195]. Convert image to uint8 prior to saving to suppress this warning.\n",
      "Lossy conversion from float32 to uint8. Range [0.0, 10.062883377075195]. Convert image to uint8 prior to saving to suppress this warning.\n",
      "Lossy conversion from float32 to uint8. Range [0.0, 10.062883377075195]. Convert image to uint8 prior to saving to suppress this warning.\n",
      "Lossy conversion from float32 to uint8. Range [0.0, 10.062883377075195]. Convert image to uint8 prior to saving to suppress this warning.\n",
      "Lossy conversion from float32 to uint8. Range [0.0, 10.062883377075195]. Convert image to uint8 prior to saving to suppress this warning.\n",
      "Lossy conversion from float32 to uint8. Range [0.0, 10.062883377075195]. Convert image to uint8 prior to saving to suppress this warning.\n"
     ]
    }
   ],
   "source": [
    "imageio.mimsave('./animation.gif', val[0][0], fps=10)"
   ]
  },
  {
   "attachments": {},
   "cell_type": "markdown",
   "metadata": {},
   "source": [
    "![SegmentLocal](animation.gif \"Gif\")"
   ]
  },
  {
   "cell_type": "code",
   "execution_count": 20,
   "metadata": {},
   "outputs": [
    {
     "data": {
      "text/plain": [
       "<matplotlib.image.AxesImage at 0x2579f5894c0>"
      ]
     },
     "execution_count": 20,
     "metadata": {},
     "output_type": "execute_result"
    },
    {
     "data": {
      "image/png": "[encoded data removed]",
      "text/plain": [
       "<Figure size 640x480 with 1 Axes>"
      ]
     },
     "metadata": {},
     "output_type": "display_data"
    }
   ],
   "source": [
    "# 0:videos, 0: 1st video out of batched data, 0: first frame from video\n",
    "# First Frame from first video\n",
    "plt.imshow(val[0][0][0])"
   ]
  },
  {
   "cell_type": "code",
   "execution_count": 21,
   "metadata": {},
   "outputs": [
    {
     "data": {
      "text/plain": [
       "<tf.Tensor: shape=(), dtype=string, numpy=b'bin blue in l four please'>"
      ]
     },
     "execution_count": 21,
     "metadata": {},
     "output_type": "execute_result"
    }
   ],
   "source": [
    "tf.strings.reduce_join([num_to_char(word) for word in val[1][0]])"
   ]
  },
  {
   "cell_type": "markdown",
   "metadata": {},
   "source": [
    "![SegmentLocal](animation.gif \"Gif\")"
   ]
  },
  {
   "attachments": {},
   "cell_type": "markdown",
   "metadata": {},
   "source": [
    "## 3. Design the Deep Neural Network"
   ]
  },
  {
   "cell_type": "code",
   "execution_count": 22,
   "metadata": {},
   "outputs": [],
   "source": [
    "from tensorflow.keras.models import Sequential\n",
    "from tensorflow.keras.layers import Conv3D, LSTM, Dense, Dropout, Bidirectional, MaxPool3D, Activation, Reshape, SpatialDropout3D, BatchNormalization, TimeDistributed, Flatten\n",
    "from tensorflow.keras.optimizers import Adam\n",
    "from tensorflow.keras.callbacks import ModelCheckpoint, LearningRateScheduler, TensorBoard"
   ]
  },
  {
   "cell_type": "code",
   "execution_count": 23,
   "metadata": {},
   "outputs": [],
   "source": [
    "model = Sequential(\n",
    "    [\n",
    "        Conv3D(128, 3, input_shape=train.as_numpy_iterator().next()[0][0].shape, padding='same', activation=\"relu\", name=\"Conv_Layer_1\"),\n",
    "        MaxPool3D((1, 2, 2)),\n",
    "        \n",
    "        Conv3D(256, 3, padding='same', activation='relu', name=\"Conv_Layer_2\"),\n",
    "        MaxPool3D((1, 2, 2)),\n",
    "        \n",
    "        Conv3D(75, 3, padding='same', activation=\"relu\", name=\"Conv_Layer_3\"),\n",
    "        MaxPool3D((1, 2, 2)),\n",
    "        \n",
    "        TimeDistributed(Flatten()),\n",
    "        \n",
    "        Bidirectional(LSTM(128, kernel_initializer='Orthogonal', return_sequences=True)),\n",
    "        Dropout(.5),\n",
    "        \n",
    "        Bidirectional(LSTM(128, kernel_initializer='Orthogonal', return_sequences=True)),\n",
    "        Dropout(.5),\n",
    "        \n",
    "        Dense(char_to_num.vocabulary_size()+1, kernel_initializer='he_normal', activation='softmax')\n",
    "        \n",
    "    ]\n",
    ")\n"
   ]
  },
  {
   "cell_type": "code",
   "execution_count": 24,
   "metadata": {},
   "outputs": [
    {
     "name": "stdout",
     "output_type": "stream",
     "text": [
      "Model: \"sequential\"\n",
      "_________________________________________________________________\n",
      " Layer (type)                Output Shape              Param #   \n",
      "=================================================================\n",
      " Conv_Layer_1 (Conv3D)       (None, 75, 46, 140, 128)  3584      \n",
      "                                                                 \n",
      " max_pooling3d (MaxPooling3D  (None, 75, 23, 70, 128)  0         \n",
      " )                                                               \n",
      "                                                                 \n",
      " Conv_Layer_2 (Conv3D)       (None, 75, 23, 70, 256)   884992    \n",
      "                                                                 \n",
      " max_pooling3d_1 (MaxPooling  (None, 75, 11, 35, 256)  0         \n",
      " 3D)                                                             \n",
      "                                                                 \n",
      " Conv_Layer_3 (Conv3D)       (None, 75, 11, 35, 75)    518475    \n",
      "                                                                 \n",
      " max_pooling3d_2 (MaxPooling  (None, 75, 5, 17, 75)    0         \n",
      " 3D)                                                             \n",
      "                                                                 \n",
      " time_distributed (TimeDistr  (None, 75, 6375)         0         \n",
      " ibuted)                                                         \n",
      "                                                                 \n",
      " bidirectional (Bidirectiona  (None, 75, 256)          6660096   \n",
      " l)                                                              \n",
      "                                                                 \n",
      " dropout (Dropout)           (None, 75, 256)           0         \n",
      "                                                                 \n",
      " bidirectional_1 (Bidirectio  (None, 75, 256)          394240    \n",
      " nal)                                                            \n",
      "                                                                 \n",
      " dropout_1 (Dropout)         (None, 75, 256)           0         \n",
      "                                                                 \n",
      " dense (Dense)               (None, 75, 41)            10537     \n",
      "                                                                 \n",
      "=================================================================\n",
      "Total params: 8,471,924\n",
      "Trainable params: 8,471,924\n",
      "Non-trainable params: 0\n",
      "_________________________________________________________________\n"
     ]
    }
   ],
   "source": [
    "model.summary()"
   ]
  },
  {
   "cell_type": "code",
   "execution_count": 31,
   "metadata": {},
   "outputs": [
    {
     "name": "stdout",
     "output_type": "stream",
     "text": [
      "The tensorboard extension is already loaded. To reload it, use:\n",
      "  %reload_ext tensorboard\n"
     ]
    },
    {
     "data": {
      "image/png": "[encoded data removed]",
      "text/plain": [
       "<IPython.core.display.Image object>"
      ]
     },
     "execution_count": 31,
     "metadata": {},
     "output_type": "execute_result"
    }
   ],
   "source": [
    "from datetime import datetime\n",
    "import tensorboard\n",
    "\n",
    "%load_ext tensorboard\n",
    "from keras.utils.vis_utils import plot_model\n",
    "logdir = \"logs/fit/\" + datetime.now().strftime(\"%Y%m%d-%H%M%S\")\n",
    "tensorboard_callback = TensorBoard(log_dir=logdir)\n",
    "plot_model(model, to_file='model_plot.png', show_shapes=True, show_layer_names=True)"
   ]
  },
  {
   "cell_type": "code",
   "execution_count": 32,
   "metadata": {},
   "outputs": [
    {
     "name": "stdout",
     "output_type": "stream",
     "text": [
      "1/1 [==============================] - 6s 6s/step\n"
     ]
    }
   ],
   "source": [
    "yhat = model.predict(val[0])"
   ]
  },
  {
   "cell_type": "code",
   "execution_count": 35,
   "metadata": {},
   "outputs": [
    {
     "data": {
      "text/plain": [
       "<tf.Tensor: shape=(), dtype=string, numpy=b'fpyyyyyyyyyyyyyyyyyyyyfffffffffffffffffffffffffffffffffffffffffffffffffccbb'>"
      ]
     },
     "execution_count": 35,
     "metadata": {},
     "output_type": "execute_result"
    }
   ],
   "source": [
    "tf.strings.reduce_join([num_to_char(tf.argmax(x)) for x in yhat[0]])"
   ]
  },
  {
   "cell_type": "code",
   "execution_count": 36,
   "metadata": {},
   "outputs": [],
   "source": [
    "def scheduler(epoch, lr): # Changes learning rate based on epoch count exponentially\n",
    "    if epoch < 30:\n",
    "        return lr\n",
    "    else:\n",
    "        return lr * tf.math.exp(-0.1)"
   ]
  },
  {
   "cell_type": "code",
   "execution_count": 37,
   "metadata": {},
   "outputs": [],
   "source": [
    "def CTCLoss(y_true, y_pred):\n",
    "    batch_len = tf.cast(tf.shape(y_true)[0], dtype=\"int64\")\n",
    "    input_length = tf.cast(tf.shape(y_pred)[1], dtype=\"int64\")\n",
    "    label_length = tf.cast(tf.shape(y_true)[1], dtype=\"int64\")\n",
    "    \n",
    "    input_length *= tf.ones(shape=(batch_len, 1), dtype=\"int64\")\n",
    "    label_length *= tf.ones(shape=(batch_len, 1), dtype=\"int64\")\n",
    "    \n",
    "    loss = tf.keras.backend.ctc_batch_cost(y_true, y_pred, input_length, label_length)\n",
    "    return loss"
   ]
  },
  {
   "cell_type": "code",
   "execution_count": 39,
   "metadata": {},
   "outputs": [],
   "source": [
    "class ProduceExample(tf.keras.callbacks.Callback):\n",
    "    def __init__(self, dataset) -> None:\n",
    "        self.dataset = dataset.as_numpy_iterator()\n",
    "        \n",
    "    def on_epoch_end(self, epoch, logs=None) -> None:\n",
    "        data = self.dataset.next()\n",
    "        yhat=self.model.predict(data[0])\n",
    "        decoded = tf.keras.backend.ctc_decode(yhat, [75, 75], greedy=False)[0][0].numpy()\n",
    "        for x in range(len(yhat)):\n",
    "            print('Original:', tf.strings.reduce_join(num_to_char(data[1][x])).numpy().decode('utf-8'))\n",
    "            print('Prediction:', tf.strings.reduce_join(num_to_char(decoded[x])).numpy().decode('utf-8'))\n",
    "            print('~'*100)\n",
    "            "
   ]
  },
  {
   "cell_type": "code",
   "execution_count": 40,
   "metadata": {},
   "outputs": [],
   "source": [
    "model.compile(optimizer=Adam(learning_rate=0.0001), loss=CTCLoss)"
   ]
  },
  {
   "cell_type": "code",
   "execution_count": 41,
   "metadata": {},
   "outputs": [],
   "source": [
    "checkpoint_callback = ModelCheckpoint(os.path.join('models', 'checkpoint'), monitor='loss', save_weights_only=True)\n",
    "schedule_callback = LearningRateScheduler(scheduler)\n",
    "example_callback = ProduceExample(data)"
   ]
  },
  {
   "cell_type": "code",
   "execution_count": 50,
   "metadata": {},
   "outputs": [
    {
     "name": "stdout",
     "output_type": "stream",
     "text": [
      "Epoch 1/2\n",
      "1/1 [==============================] - 0s 231ms/step loss: 5.76\n",
      "Original: place red at sp p six please\n",
      "Prediction: place red at p six please\n",
      "~~~~~~~~~~~~~~~~~~~~~~~~~~~~~~~~~~~~~~~~~~~~~~~~~~~~~~~~~~~~~~~~~~~~~~~~~~~~~~~~~~~~~~~~~~~~~~~~~~~~\n",
      "Original: place blue in i zero now\n",
      "Prediction: place blue in i zero now\n",
      "~~~~~~~~~~~~~~~~~~~~~~~~~~~~~~~~~~~~~~~~~~~~~~~~~~~~~~~~~~~~~~~~~~~~~~~~~~~~~~~~~~~~~~~~~~~~~~~~~~~~\n",
      "450/450 [==============================] - 778s 2s/step - loss: 5.7601 - val_loss: 3.1056 - lr: 1.0000e-04\n",
      "Epoch 2/2\n",
      "1/1 [==============================] - 0s 234ms/step loss: 5.34\n",
      "Original: set sp blue with b three soon\n",
      "Prediction: set blue with b thre son\n",
      "~~~~~~~~~~~~~~~~~~~~~~~~~~~~~~~~~~~~~~~~~~~~~~~~~~~~~~~~~~~~~~~~~~~~~~~~~~~~~~~~~~~~~~~~~~~~~~~~~~~~\n",
      "Original: bin green at a nine again\n",
      "Prediction: bin gren at a nine again\n",
      "~~~~~~~~~~~~~~~~~~~~~~~~~~~~~~~~~~~~~~~~~~~~~~~~~~~~~~~~~~~~~~~~~~~~~~~~~~~~~~~~~~~~~~~~~~~~~~~~~~~~\n",
      "450/450 [==============================] - 772s 2s/step - loss: 5.3479 - val_loss: 2.7914 - lr: 1.0000e-04\n"
     ]
    }
   ],
   "source": [
    "model.load_weights(\"models/checkpoint\")\n",
    "model.fit(train, validation_data=test, epochs=2, callbacks=[checkpoint_callback, schedule_callback, example_callback, tensorboard_callback])\n",
    "model.save(\"model.h5\")"
   ]
  },
  {
   "cell_type": "code",
   "execution_count": 51,
   "metadata": {},
   "outputs": [
    {
     "data": {
      "text/plain": [
       "Reusing TensorBoard on port 6006 (pid 46416), started 19:49:04 ago. (Use '!kill 46416' to kill it.)"
      ]
     },
     "metadata": {},
     "output_type": "display_data"
    },
    {
     "data": {
      "text/html": [
       "\n",
       "      <iframe id=\"tensorboard-frame-457d923b4434b3cf\" width=\"100%\" height=\"800\" frameborder=\"0\">\n",
       "      </iframe>\n",
       "      <script>\n",
       "        (function() {\n",
       "          const frame = document.getElementById(\"tensorboard-frame-457d923b4434b3cf\");\n",
       "          const url = new URL(\"http://localhost\");\n",
       "          const port = 6006;\n",
       "          if (port) {\n",
       "            url.port = port;\n",
       "          }\n",
       "          frame.src = url;\n",
       "        })();\n",
       "      </script>\n",
       "    "
      ],
      "text/plain": [
       "<IPython.core.display.HTML object>"
      ]
     },
     "metadata": {},
     "output_type": "display_data"
    }
   ],
   "source": [
    "%tensorboard --logdir logs"
   ]
  },
  {
   "cell_type": "code",
   "execution_count": null,
   "metadata": {},
   "outputs": [],
   "source": []
  }
 ],
 "metadata": {
  "kernelspec": {
   "display_name": "LipNet",
   "language": "python",
   "name": "python3"
  },
  "language_info": {
   "codemirror_mode": {
    "name": "ipython",
    "version": 3
   },
   "file_extension": ".py",
   "mimetype": "text/x-python",
   "name": "python",
   "nbconvert_exporter": "python",
   "pygments_lexer": "ipython3",
   "version": "3.8.16"
  },
  "orig_nbformat": 4,
  "vscode": {
   "interpreter": {
    "hash": "30edfb50ea28607ac95bd79f4c4f486aeee34220588d8806bf29b57b3a4a77f5"
   }
  }
 },
 "nbformat": 4,
 "nbformat_minor": 2
}
